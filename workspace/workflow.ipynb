{
 "cells": [
  {
   "cell_type": "code",
   "execution_count": 1,
   "metadata": {},
   "outputs": [
    {
     "name": "stderr",
     "output_type": "stream",
     "text": [
      "/root/anaconda3/envs/ChatGLM2/lib/python3.9/site-packages/tqdm/auto.py:21: TqdmWarning: IProgress not found. Please update jupyter and ipywidgets. See https://ipywidgets.readthedocs.io/en/stable/user_install.html\n",
      "  from .autonotebook import tqdm as notebook_tqdm\n"
     ]
    }
   ],
   "source": [
    "\"\"\"\n",
    "import pandas as pd\n",
    "df = pd.read_csv(\"./qingbao.csv\",  on_bad_lines='skip')\n",
    "res = \"\"\n",
    "for i in df['origin']:\n",
    "    res += i + \"\\n\"\n",
    "with open(\"./res.txt\", \"w\", encoding='utf-8') as f:\n",
    "    f.write(res)\n",
    "\"\"\"\n",
    "import pandas as pd\n",
    "from GetRelationShips import GetRelationShips\n",
    "from GetEventType import GetEventType\n",
    "from GetEventDetail import GetEventDetail\n",
    "from load_model import chatglm\n",
    "from extractJson import extractJson, JsonValidate\n",
    "import json\n",
    "import tqdm"
   ]
  },
  {
   "cell_type": "code",
   "execution_count": 2,
   "metadata": {},
   "outputs": [],
   "source": [
    "df = pd.read_csv(\"./qingbao.csv\",  on_bad_lines='skip')\n",
    "res = []\n",
    "for i in df['origin']:\n",
    "    res.append(i)"
   ]
  },
  {
   "cell_type": "code",
   "execution_count": 3,
   "metadata": {},
   "outputs": [
    {
     "name": "stderr",
     "output_type": "stream",
     "text": [
      "Loading checkpoint shards: 100%|██████████| 7/7 [00:12<00:00,  1.82s/it]\n"
     ]
    }
   ],
   "source": [
    "model = chatglm()"
   ]
  },
  {
   "cell_type": "code",
   "execution_count": null,
   "metadata": {
    "scrolled": false
   },
   "outputs": [
    {
     "name": "stderr",
     "output_type": "stream",
     "text": [
      "  0%|          | 3/1415 [01:32<12:01:53, 30.68s/it]"
     ]
    },
    {
     "name": "stdout",
     "output_type": "stream",
     "text": [
      "ERROR:Invalid \\escape: line 6 column 23 (char 327)\n"
     ]
    },
    {
     "name": "stderr",
     "output_type": "stream",
     "text": [
      "\r",
      "  0%|          | 4/1415 [01:37<7:56:40, 20.27s/it] "
     ]
    },
    {
     "name": "stdout",
     "output_type": "stream",
     "text": [
      "ERROR:Expecting property name enclosed in double quotes: line 2 column 1 (char 2)\n"
     ]
    },
    {
     "name": "stderr",
     "output_type": "stream",
     "text": [
      "\r",
      "  0%|          | 5/1415 [02:13<10:12:14, 26.05s/it]"
     ]
    },
    {
     "name": "stdout",
     "output_type": "stream",
     "text": [
      "ERROR:Expecting ',' delimiter: line 4 column 1 (char 81)\n"
     ]
    },
    {
     "name": "stderr",
     "output_type": "stream",
     "text": [
      "  1%|          | 9/1415 [03:37<7:14:24, 18.54s/it] "
     ]
    },
    {
     "name": "stdout",
     "output_type": "stream",
     "text": [
      "ERROR:list index out of range\n"
     ]
    },
    {
     "name": "stderr",
     "output_type": "stream",
     "text": [
      "  1%|          | 12/1415 [04:47<8:21:28, 21.45s/it]"
     ]
    },
    {
     "name": "stdout",
     "output_type": "stream",
     "text": [
      "ERROR:Expecting ',' delimiter: line 4 column 1 (char 76)\n"
     ]
    },
    {
     "name": "stderr",
     "output_type": "stream",
     "text": [
      "  2%|▏         | 22/1415 [10:09<9:13:23, 23.84s/it] "
     ]
    },
    {
     "name": "stdout",
     "output_type": "stream",
     "text": [
      "ERROR:list index out of range\n"
     ]
    },
    {
     "name": "stderr",
     "output_type": "stream",
     "text": [
      "  2%|▏         | 26/1415 [11:59<8:58:30, 23.26s/it] "
     ]
    },
    {
     "name": "stdout",
     "output_type": "stream",
     "text": [
      "ERROR:Expecting property name enclosed in double quotes: line 2 column 1 (char 2)\n"
     ]
    },
    {
     "name": "stderr",
     "output_type": "stream",
     "text": [
      "\r",
      "  2%|▏         | 27/1415 [12:03<6:38:45, 17.24s/it]"
     ]
    },
    {
     "name": "stdout",
     "output_type": "stream",
     "text": [
      "ERROR:Expecting property name enclosed in double quotes: line 2 column 1 (char 2)\n"
     ]
    },
    {
     "name": "stderr",
     "output_type": "stream",
     "text": [
      "  2%|▏         | 31/1415 [14:34<11:54:52, 30.99s/it]"
     ]
    },
    {
     "name": "stdout",
     "output_type": "stream",
     "text": [
      "INFO：Json Invalidate\n"
     ]
    },
    {
     "name": "stderr",
     "output_type": "stream",
     "text": [
      "\r",
      "  2%|▏         | 32/1415 [14:48<9:52:10, 25.69s/it] "
     ]
    },
    {
     "name": "stdout",
     "output_type": "stream",
     "text": [
      "ERROR:Expecting property name enclosed in double quotes: line 2 column 1 (char 2)\n"
     ]
    },
    {
     "name": "stderr",
     "output_type": "stream",
     "text": [
      "\r",
      "  2%|▏         | 33/1415 [14:51<7:20:16, 19.11s/it]"
     ]
    },
    {
     "name": "stdout",
     "output_type": "stream",
     "text": [
      "ERROR:list index out of range\n"
     ]
    },
    {
     "name": "stderr",
     "output_type": "stream",
     "text": [
      "\r",
      "  2%|▏         | 34/1415 [14:57<5:44:50, 14.98s/it]"
     ]
    },
    {
     "name": "stdout",
     "output_type": "stream",
     "text": [
      "ERROR:Expecting property name enclosed in double quotes: line 3 column 1 (char 3)\n"
     ]
    },
    {
     "name": "stderr",
     "output_type": "stream",
     "text": [
      "  3%|▎         | 36/1415 [15:50<8:19:31, 21.73s/it]"
     ]
    },
    {
     "name": "stdout",
     "output_type": "stream",
     "text": [
      "ERROR:'顺承关系'\n"
     ]
    },
    {
     "name": "stderr",
     "output_type": "stream",
     "text": [
      "  3%|▎         | 38/1415 [16:58<9:42:37, 25.39s/it] "
     ]
    },
    {
     "name": "stdout",
     "output_type": "stream",
     "text": [
      "ERROR:Expecting property name enclosed in double quotes: line 2 column 1 (char 2)\n"
     ]
    },
    {
     "name": "stderr",
     "output_type": "stream",
     "text": [
      "\r",
      "  3%|▎         | 39/1415 [17:09<7:57:03, 20.80s/it]"
     ]
    },
    {
     "name": "stdout",
     "output_type": "stream",
     "text": [
      "ERROR:Expecting property name enclosed in double quotes: line 2 column 1 (char 2)\n"
     ]
    },
    {
     "name": "stderr",
     "output_type": "stream",
     "text": [
      "\r",
      "  3%|▎         | 40/1415 [17:13<6:01:27, 15.77s/it]"
     ]
    },
    {
     "name": "stdout",
     "output_type": "stream",
     "text": [
      "ERROR:Expecting property name enclosed in double quotes: line 2 column 1 (char 2)\n"
     ]
    },
    {
     "name": "stderr",
     "output_type": "stream",
     "text": [
      "\r",
      "  3%|▎         | 41/1415 [17:31<6:21:16, 16.65s/it]"
     ]
    },
    {
     "name": "stdout",
     "output_type": "stream",
     "text": [
      "ERROR:Expecting ',' delimiter: line 5 column 1 (char 167)\n"
     ]
    },
    {
     "name": "stderr",
     "output_type": "stream",
     "text": [
      "  3%|▎         | 43/1415 [18:25<7:55:14, 20.78s/it]"
     ]
    },
    {
     "name": "stdout",
     "output_type": "stream",
     "text": [
      "INFO：Json Invalidate\n"
     ]
    },
    {
     "name": "stderr",
     "output_type": "stream",
     "text": [
      "\r",
      "  3%|▎         | 44/1415 [18:37<6:48:40, 17.89s/it]"
     ]
    },
    {
     "name": "stdout",
     "output_type": "stream",
     "text": [
      "ERROR:Invalid \\escape: line 3 column 139 (char 196)\n"
     ]
    },
    {
     "name": "stderr",
     "output_type": "stream",
     "text": [
      "  3%|▎         | 46/1415 [19:36<8:37:26, 22.68s/it]"
     ]
    },
    {
     "name": "stdout",
     "output_type": "stream",
     "text": [
      "INFO：Json Invalidate\n"
     ]
    },
    {
     "name": "stderr",
     "output_type": "stream",
     "text": [
      "  3%|▎         | 49/1415 [20:36<7:37:54, 20.11s/it]"
     ]
    },
    {
     "name": "stdout",
     "output_type": "stream",
     "text": [
      "ERROR:Expecting property name enclosed in double quotes: line 2 column 1 (char 2)\n"
     ]
    },
    {
     "name": "stderr",
     "output_type": "stream",
     "text": [
      "  4%|▎         | 51/1415 [21:09<6:41:44, 17.67s/it]"
     ]
    },
    {
     "name": "stdout",
     "output_type": "stream",
     "text": [
      "ERROR:Expecting property name enclosed in double quotes: line 2 column 1 (char 2)\n"
     ]
    },
    {
     "name": "stderr",
     "output_type": "stream",
     "text": [
      "  4%|▍         | 54/1415 [22:33<8:23:18, 22.19s/it]"
     ]
    },
    {
     "name": "stdout",
     "output_type": "stream",
     "text": [
      "INFO：Json Invalidate\n"
     ]
    },
    {
     "name": "stderr",
     "output_type": "stream",
     "text": [
      "\r",
      "  4%|▍         | 55/1415 [22:46<7:24:31, 19.61s/it]"
     ]
    },
    {
     "name": "stdout",
     "output_type": "stream",
     "text": [
      "ERROR:list index out of range\n"
     ]
    },
    {
     "name": "stderr",
     "output_type": "stream",
     "text": [
      "\r",
      "  4%|▍         | 56/1415 [23:06<7:26:06, 19.70s/it]"
     ]
    },
    {
     "name": "stdout",
     "output_type": "stream",
     "text": [
      "ERROR:Expecting property name enclosed in double quotes: line 1 column 2 (char 1)\n"
     ]
    },
    {
     "name": "stderr",
     "output_type": "stream",
     "text": [
      "\r",
      "  4%|▍         | 57/1415 [23:15<6:10:27, 16.37s/it]"
     ]
    },
    {
     "name": "stdout",
     "output_type": "stream",
     "text": [
      "ERROR:Expecting ',' delimiter: line 7 column 1 (char 98)\n"
     ]
    },
    {
     "name": "stderr",
     "output_type": "stream",
     "text": [
      "  4%|▍         | 60/1415 [25:28<12:14:23, 32.52s/it]"
     ]
    },
    {
     "name": "stdout",
     "output_type": "stream",
     "text": [
      "ERROR:Expecting ',' delimiter: line 4 column 1 (char 41)\n"
     ]
    },
    {
     "name": "stderr",
     "output_type": "stream",
     "text": [
      "\r",
      "  4%|▍         | 61/1415 [25:36<9:27:11, 25.13s/it] "
     ]
    },
    {
     "name": "stdout",
     "output_type": "stream",
     "text": [
      "ERROR:Expecting property name enclosed in double quotes: line 2 column 1 (char 2)\n"
     ]
    },
    {
     "name": "stderr",
     "output_type": "stream",
     "text": [
      "\r",
      "  4%|▍         | 62/1415 [25:45<7:39:16, 20.37s/it]"
     ]
    },
    {
     "name": "stdout",
     "output_type": "stream",
     "text": [
      "ERROR:Expecting property name enclosed in double quotes: line 2 column 1 (char 2)\n"
     ]
    },
    {
     "name": "stderr",
     "output_type": "stream",
     "text": [
      "\r",
      "  4%|▍         | 63/1415 [25:51<6:02:41, 16.10s/it]"
     ]
    },
    {
     "name": "stdout",
     "output_type": "stream",
     "text": [
      "ERROR:Expecting property name enclosed in double quotes: line 2 column 1 (char 2)\n"
     ]
    },
    {
     "name": "stderr",
     "output_type": "stream",
     "text": [
      "  5%|▍         | 67/1415 [27:36<7:31:35, 20.10s/it] "
     ]
    },
    {
     "name": "stdout",
     "output_type": "stream",
     "text": [
      "ERROR:'因果关系'\n"
     ]
    },
    {
     "name": "stderr",
     "output_type": "stream",
     "text": [
      "\r",
      "  5%|▍         | 68/1415 [27:40<5:39:33, 15.12s/it]"
     ]
    },
    {
     "name": "stdout",
     "output_type": "stream",
     "text": [
      "ERROR:Expecting property name enclosed in double quotes: line 2 column 1 (char 2)\n"
     ]
    },
    {
     "name": "stderr",
     "output_type": "stream",
     "text": [
      "\r",
      "  5%|▍         | 69/1415 [27:50<5:09:18, 13.79s/it]"
     ]
    },
    {
     "name": "stdout",
     "output_type": "stream",
     "text": [
      "ERROR:list index out of range\n"
     ]
    },
    {
     "name": "stderr",
     "output_type": "stream",
     "text": [
      "\r",
      "  5%|▍         | 70/1415 [28:05<5:13:01, 13.96s/it]"
     ]
    },
    {
     "name": "stdout",
     "output_type": "stream",
     "text": [
      "ERROR:Expecting ':' delimiter: line 3 column 3 (char 54)\n"
     ]
    },
    {
     "name": "stderr",
     "output_type": "stream",
     "text": [
      "\r",
      "  5%|▌         | 71/1415 [28:17<5:03:16, 13.54s/it]"
     ]
    },
    {
     "name": "stdout",
     "output_type": "stream",
     "text": [
      "ERROR:list index out of range\n"
     ]
    },
    {
     "name": "stderr",
     "output_type": "stream",
     "text": [
      "\r",
      "  5%|▌         | 72/1415 [28:24<4:17:26, 11.50s/it]"
     ]
    },
    {
     "name": "stdout",
     "output_type": "stream",
     "text": [
      "ERROR:list index out of range\n"
     ]
    },
    {
     "name": "stderr",
     "output_type": "stream",
     "text": [
      "\r",
      "  5%|▌         | 73/1415 [28:46<5:28:47, 14.70s/it]"
     ]
    },
    {
     "name": "stdout",
     "output_type": "stream",
     "text": [
      "ERROR:list index out of range\n"
     ]
    },
    {
     "name": "stderr",
     "output_type": "stream",
     "text": [
      "\r",
      "  5%|▌         | 74/1415 [28:56<4:54:51, 13.19s/it]"
     ]
    },
    {
     "name": "stdout",
     "output_type": "stream",
     "text": [
      "ERROR:Expecting ',' delimiter: line 7 column 1 (char 330)\n"
     ]
    },
    {
     "name": "stderr",
     "output_type": "stream",
     "text": [
      "  5%|▌         | 76/1415 [29:49<6:49:19, 18.34s/it]"
     ]
    },
    {
     "name": "stdout",
     "output_type": "stream",
     "text": [
      "ERROR:Expecting property name enclosed in double quotes: line 2 column 1 (char 2)\n"
     ]
    },
    {
     "name": "stderr",
     "output_type": "stream",
     "text": [
      "\r",
      "  5%|▌         | 77/1415 [30:42<10:38:20, 28.63s/it]"
     ]
    },
    {
     "name": "stdout",
     "output_type": "stream",
     "text": [
      "ERROR:list index out of range\n"
     ]
    },
    {
     "name": "stderr",
     "output_type": "stream",
     "text": [
      "\r",
      "  6%|▌         | 78/1415 [30:50<8:18:56, 22.39s/it] "
     ]
    },
    {
     "name": "stdout",
     "output_type": "stream",
     "text": [
      "ERROR:Expecting ',' delimiter: line 7 column 1 (char 221)\n"
     ]
    },
    {
     "name": "stderr",
     "output_type": "stream",
     "text": [
      "\r",
      "  6%|▌         | 79/1415 [30:55<6:21:26, 17.13s/it]"
     ]
    },
    {
     "name": "stdout",
     "output_type": "stream",
     "text": [
      "ERROR:list index out of range\n"
     ]
    },
    {
     "name": "stderr",
     "output_type": "stream",
     "text": [
      "  6%|▌         | 81/1415 [32:10<9:04:54, 24.51s/it] "
     ]
    },
    {
     "name": "stdout",
     "output_type": "stream",
     "text": [
      "ERROR:'因果关系'\n"
     ]
    },
    {
     "name": "stderr",
     "output_type": "stream",
     "text": [
      "\r",
      "  6%|▌         | 82/1415 [32:15<6:53:19, 18.60s/it]"
     ]
    },
    {
     "name": "stdout",
     "output_type": "stream",
     "text": [
      "ERROR:Expecting property name enclosed in double quotes: line 2 column 1 (char 2)\n"
     ]
    },
    {
     "name": "stderr",
     "output_type": "stream",
     "text": [
      "\r",
      "  6%|▌         | 83/1415 [32:46<8:15:57, 22.34s/it]"
     ]
    },
    {
     "name": "stdout",
     "output_type": "stream",
     "text": [
      "ERROR:list index out of range\n"
     ]
    },
    {
     "name": "stderr",
     "output_type": "stream",
     "text": [
      "\r",
      "  6%|▌         | 84/1415 [33:01<7:27:12, 20.16s/it]"
     ]
    },
    {
     "name": "stdout",
     "output_type": "stream",
     "text": [
      "ERROR:Expecting property name enclosed in double quotes: line 2 column 1 (char 2)\n"
     ]
    },
    {
     "name": "stderr",
     "output_type": "stream",
     "text": [
      "\r",
      "  6%|▌         | 85/1415 [33:05<5:42:35, 15.46s/it]"
     ]
    },
    {
     "name": "stdout",
     "output_type": "stream",
     "text": [
      "ERROR:Expecting property name enclosed in double quotes: line 2 column 1 (char 2)\n"
     ]
    },
    {
     "name": "stderr",
     "output_type": "stream",
     "text": [
      "  6%|▌         | 87/1415 [33:37<5:36:19, 15.20s/it]"
     ]
    },
    {
     "name": "stdout",
     "output_type": "stream",
     "text": [
      "ERROR:list index out of range\n"
     ]
    },
    {
     "name": "stderr",
     "output_type": "stream",
     "text": [
      "\r",
      "  6%|▌         | 88/1415 [33:49<5:18:53, 14.42s/it]"
     ]
    },
    {
     "name": "stdout",
     "output_type": "stream",
     "text": [
      "ERROR:Expecting property name enclosed in double quotes: line 2 column 1 (char 2)\n"
     ]
    },
    {
     "name": "stderr",
     "output_type": "stream",
     "text": [
      "\r",
      "  6%|▋         | 89/1415 [33:54<4:13:59, 11.49s/it]"
     ]
    },
    {
     "name": "stdout",
     "output_type": "stream",
     "text": [
      "ERROR:list index out of range\n"
     ]
    },
    {
     "name": "stderr",
     "output_type": "stream",
     "text": [
      "\r",
      "  6%|▋         | 90/1415 [34:12<4:54:10, 13.32s/it]"
     ]
    },
    {
     "name": "stdout",
     "output_type": "stream",
     "text": [
      "ERROR:Expecting ',' delimiter: line 3 column 121 (char 167)\n"
     ]
    },
    {
     "name": "stderr",
     "output_type": "stream",
     "text": [
      "  7%|▋         | 92/1415 [34:59<6:43:57, 18.32s/it]"
     ]
    },
    {
     "name": "stdout",
     "output_type": "stream",
     "text": [
      "ERROR:list index out of range\n"
     ]
    },
    {
     "name": "stderr",
     "output_type": "stream",
     "text": [
      "  7%|▋         | 95/1415 [36:24<7:47:16, 21.24s/it] "
     ]
    },
    {
     "name": "stdout",
     "output_type": "stream",
     "text": [
      "ERROR:Expecting property name enclosed in double quotes: line 2 column 1 (char 2)\n"
     ]
    },
    {
     "name": "stderr",
     "output_type": "stream",
     "text": [
      "\r",
      "  7%|▋         | 96/1415 [36:51<8:23:26, 22.90s/it]"
     ]
    },
    {
     "name": "stdout",
     "output_type": "stream",
     "text": [
      "ERROR:'因果关系'\n"
     ]
    },
    {
     "name": "stderr",
     "output_type": "stream",
     "text": [
      "\r",
      "  7%|▋         | 97/1415 [37:46<11:54:05, 32.51s/it]"
     ]
    }
   ],
   "source": [
    "cnt = 0\n",
    "ana_res = []\n",
    "output = []\n",
    "for i in tqdm.tqdm(res):\n",
    "    cnt += 1\n",
    "    # print(f\"progress:{cnt}/{len(res)}\")\n",
    "    # print(f\"content:{i}\\n\\n\")\n",
    "    relation = GetRelationShips(i, model)\n",
    "    # print(f\"relationships={relation}\")\n",
    "    relationJson = extractJson(relation)\n",
    "    relationJson = relationJson if JsonValidate(relationJson) else 'Json Invalidate'\n",
    "    # print(f\"Json inside={relationJson}\")\n",
    "    if not JsonValidate(relationJson):\n",
    "        # ana_res.append({\"事件描述\": i, \"事件关系\": \"Json Invalidate\"})\n",
    "        print(\"INFO：Json Invalidate\")\n",
    "        continue\n",
    "    \n",
    "    output.append(relationJson)\n",
    "    with open(\"./relationJson.json\", \"w\", encoding='utf-8') as f:\n",
    "        json.dump(output, f)\n",
    "    \n",
    "    try:\n",
    "        pos = 0\n",
    "        relationJson = json.loads(relationJson)\n",
    "        # print(f\"relationJson={relationJson}\")\n",
    "        for item in relationJson[\"因果关系\"]:\n",
    "            reason = item.split(\"->\")[0]\n",
    "            result = item.split(\"->\")[1]\n",
    "            reason_type = GetEventType(reason, model)\n",
    "            result_type = GetEventType(result, model)\n",
    "            relationJson[\"因果关系\"][pos] = {\n",
    "                \"原因\": {\n",
    "                    \"事件类型\": reason_type,\n",
    "                    \"事件细节\": GetEventDetail(reason, reason_type, model),\n",
    "                    \"事件描述\": reason\n",
    "                },\n",
    "                \"结果\": {\n",
    "                    \"事件类型\": result_type,\n",
    "                    \"事件细节\": GetEventDetail(result, result_type, model),\n",
    "                    \"事件描述\": result\n",
    "                }\n",
    "            }\n",
    "            pos += 1\n",
    "\n",
    "        pos = 0\n",
    "        for item in relationJson[\"顺承关系\"]:\n",
    "            reason = item.split(\"->\")[0]\n",
    "            result = item.split(\"->\")[1]\n",
    "            reason_type = GetEventType(reason, model)\n",
    "            result_type = GetEventType(result, model)\n",
    "            relationJson[\"顺承关系\"][pos] = {\n",
    "                \"前一事件\": {\n",
    "                    \"事件类型\": reason_type,\n",
    "                    \"事件细节\": GetEventDetail(reason, reason_type, model),\n",
    "                    \"事件描述\": reason\n",
    "                },\n",
    "                \"后一事件\": {\n",
    "                    \"事件类型\": result_type,\n",
    "                    \"事件细节\": GetEventDetail(result, result_type, model),\n",
    "                    \"事件描述\": result\n",
    "                }\n",
    "            }\n",
    "            pos += 1\n",
    "    except Exception as e:\n",
    "        # relationJson = str(e)\n",
    "        print(f\"ERROR:{e}\")\n",
    "        continue\n",
    "    \n",
    "    ana_res.append({\"事件描述\": i, \"事件分析结果\": relationJson})\n",
    "    # if cnt >= 100:\n",
    "        # break\n",
    "    with open(\"./analysis_result.json\", 'w', encoding='utf-8') as f:\n",
    "        json.dump(ana_res, f, indent=4)"
   ]
  },
  {
   "cell_type": "markdown",
   "metadata": {},
   "source": [
    "查看事件图谱结果"
   ]
  },
  {
   "cell_type": "code",
   "execution_count": null,
   "metadata": {},
   "outputs": [],
   "source": [
    "import pprint\n",
    "with open(\"./analysis_result.json\", 'r', encoding='utf-8') as f:\n",
    "    data = json.load(f)\n",
    "pprint.pprint(data)"
   ]
  },
  {
   "cell_type": "markdown",
   "metadata": {},
   "source": [
    "下面是对主题抽取的结果做处理(去除意外词重复词和同义词)的代码"
   ]
  },
  {
   "cell_type": "code",
   "execution_count": 120,
   "metadata": {},
   "outputs": [],
   "source": [
    "import pprint\n",
    "import json\n",
    "with open(\"./EventType.json\", 'r', encoding='utf-8') as f:\n",
    "    data = json.load(f)\n",
    "\n",
    "import pandas as pd\n",
    "\n",
    "dic = {\"type\": []}\n",
    "for i in data:\n",
    "    dic['type'].append(i)\n",
    "pd.DataFrame(dic).to_csv(\"./EventType.csv\")\n",
    "\n",
    "# pprint.pprint(data)"
   ]
  },
  {
   "cell_type": "code",
   "execution_count": 136,
   "metadata": {},
   "outputs": [
    {
     "name": "stderr",
     "output_type": "stream",
     "text": [
      "100%|██████████| 241/241 [00:00<00:00, 133336.93it/s]\n"
     ]
    },
    {
     "name": "stdout",
     "output_type": "stream",
     "text": [
      "NONE\n",
      "NONE\n",
      "NONE\n"
     ]
    },
    {
     "name": "stderr",
     "output_type": "stream",
     "text": [
      "100%|██████████| 224/224 [00:00<00:00, 4449.16it/s]\n"
     ]
    }
   ],
   "source": [
    "from word_similarity import WordSimilarity2010\n",
    "import tqdm\n",
    "import json\n",
    "with open(\"./type_result.json\", 'r', encoding='utf-8') as f:\n",
    "    data1 = json.load(f)\n",
    "data = []\n",
    "for i in data1:\n",
    "    # if i != 'NONE':\n",
    "    if 1:\n",
    "        data.append(i)\n",
    "ws_tool = WordSimilarity2010()\n",
    "eps = 0.9\n",
    "def is_same(a, b):\n",
    "    sim_b = ws_tool.similarity(a, b)\n",
    "    return sim_b>eps\n",
    "\n",
    "import ast\n",
    "\n",
    "def is_list(string):\n",
    "    try:\n",
    "        result = ast.literal_eval(string)\n",
    "        return isinstance(result, list)\n",
    "    except (SyntaxError, ValueError):\n",
    "        return False\n",
    "\n",
    "unique_data = []\n",
    "for i in tqdm.tqdm(data):\n",
    "    dup = False\n",
    "    for k in i:\n",
    "        if k in 'abcdefghijklmnopqretuvwxyzABCDEFGHIJKLMNOPQRSTUVWXYZ':\n",
    "            dup = True\n",
    "            print(i)\n",
    "            break\n",
    "    for j in unique_data:\n",
    "        if i in j:\n",
    "            dup = True\n",
    "            break\n",
    "    if not dup:\n",
    "        unique_data.append(i)\n",
    "\n",
    "unique_data_outof_number_and_badF = []\n",
    "for i in unique_data:\n",
    "    try:\n",
    "        kk = int(i)\n",
    "    except:\n",
    "        if not is_list(str(i)):\n",
    "            unique_data_outof_number_and_badF.append(i)\n",
    "        else:    \n",
    "            # print(i)\n",
    "            pass\n",
    "\n",
    "def remove_duplicates(lst):\n",
    "    result = []\n",
    "    n = len(lst)\n",
    "\n",
    "    for i in tqdm.tqdm(range(n)):\n",
    "        is_duplicate = False\n",
    "        for j in range(i + 1, n):\n",
    "            # print(lst[i], lst[j])\n",
    "            if is_same(lst[i], lst[j]):\n",
    "                is_duplicate = True\n",
    "                # print(lst[i], lst[j])\n",
    "                break\n",
    "        if not is_duplicate:\n",
    "            result.append(lst[i])\n",
    "\n",
    "    return result\n",
    "\n",
    "def check_If_duplicates(lst):\n",
    "    n = len(lst)\n",
    "\n",
    "    for i in tqdm.tqdm(range(n)):\n",
    "        is_duplicate = False\n",
    "        for j in range(i + 1, n):\n",
    "            # print(lst[i], lst[j])\n",
    "            if is_same(lst[i], lst[j]):\n",
    "                return True\n",
    "    return False\n",
    "\n",
    "unique_data_outof_final = remove_duplicates(unique_data_outof_number_and_badF)\n",
    "    "
   ]
  },
  {
   "cell_type": "code",
   "execution_count": 137,
   "metadata": {},
   "outputs": [
    {
     "name": "stderr",
     "output_type": "stream",
     "text": [
      "100%|██████████| 224/224 [00:00<00:00, 4306.21it/s]\n"
     ]
    },
    {
     "data": {
      "text/plain": [
       "(241, 224, 224, 224, False)"
      ]
     },
     "execution_count": 137,
     "metadata": {},
     "output_type": "execute_result"
    }
   ],
   "source": [
    "len(data), len(unique_data), len(unique_data_outof_number_and_badF), len(unique_data_outof_final), check_If_duplicates(unique_data_outof_final)"
   ]
  },
  {
   "cell_type": "code",
   "execution_count": 138,
   "metadata": {},
   "outputs": [],
   "source": [
    "pd.Series(unique_data_outof_final).to_csv(\"./Event_Type_final.csv\")"
   ]
  },
  {
   "cell_type": "code",
   "execution_count": 139,
   "metadata": {},
   "outputs": [
    {
     "data": {
      "text/plain": [
       "0       窃取\n",
       "1       渗透\n",
       "2       打击\n",
       "3     利用木马\n",
       "4       销毁\n",
       "5       攻击\n",
       "6       复制\n",
       "7       发现\n",
       "8       感染\n",
       "9       建立\n",
       "10      建设\n",
       "11      混淆\n",
       "12      学习\n",
       "13      自查\n",
       "14      分析\n",
       "15      状态\n",
       "16      装载\n",
       "17      信息\n",
       "18     重定向\n",
       "19      制造\n",
       "dtype: object"
      ]
     },
     "execution_count": 139,
     "metadata": {},
     "output_type": "execute_result"
    }
   ],
   "source": [
    "pd.Series(unique_data_outof_final).head(20)"
   ]
  },
  {
   "cell_type": "markdown",
   "metadata": {},
   "source": [
    "查看type_result.json文件"
   ]
  },
  {
   "cell_type": "code",
   "execution_count": null,
   "metadata": {
    "pycharm": {
     "is_executing": true
    }
   },
   "outputs": [],
   "source": [
    "import pprint\n",
    "import json\n",
    "with open(\"./type_result.json\", 'r', encoding='utf-8') as f:\n",
    "    data = json.load(f)\n",
    "pprint.pprint(data)"
   ]
  },
  {
   "cell_type": "code",
   "execution_count": null,
   "metadata": {},
   "outputs": [],
   "source": []
  }
 ],
 "metadata": {
  "kernelspec": {
   "display_name": "ChatGLM2",
   "language": "python",
   "name": "chatglm2"
  },
  "language_info": {
   "codemirror_mode": {
    "name": "ipython",
    "version": 3
   },
   "file_extension": ".py",
   "mimetype": "text/x-python",
   "name": "python",
   "nbconvert_exporter": "python",
   "pygments_lexer": "ipython3",
   "version": "3.9.17"
  }
 },
 "nbformat": 4,
 "nbformat_minor": 2
}
