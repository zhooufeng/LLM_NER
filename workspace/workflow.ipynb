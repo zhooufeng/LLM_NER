{
 "cells": [
  {
   "cell_type": "code",
   "execution_count": 140,
   "metadata": {},
   "outputs": [
    {
     "name": "stderr",
     "output_type": "stream",
     "text": [
      "/root/anaconda3/envs/ChatGLM2/lib/python3.9/site-packages/tqdm/auto.py:21: TqdmWarning: IProgress not found. Please update jupyter and ipywidgets. See https://ipywidgets.readthedocs.io/en/stable/user_install.html\n",
      "  from .autonotebook import tqdm as notebook_tqdm\n"
     ]
    }
   ],
   "source": [
    "\"\"\"\n",
    "import pandas as pd\n",
    "df = pd.read_csv(\"./qingbao.csv\",  on_bad_lines='skip')\n",
    "res = \"\"\n",
    "for i in df['origin']:\n",
    "    res += i + \"\\n\"\n",
    "with open(\"./res.txt\", \"w\", encoding='utf-8') as f:\n",
    "    f.write(res)\n",
    "\"\"\"\n",
    "import pandas as pd\n",
    "from GetRelationShips import GetRelationShips\n",
    "from GetEventType import GetEventType\n",
    "from GetEventDetail import GetEventDetail\n",
    "from load_model import chatglm\n",
    "from extractJson import extractJson, JsonValidate\n",
    "import json"
   ]
  },
  {
   "cell_type": "code",
   "execution_count": 141,
   "metadata": {},
   "outputs": [],
   "source": [
    "df = pd.read_csv(\"./qingbao.csv\",  on_bad_lines='skip')\n",
    "res = []\n",
    "for i in df['origin']:\n",
    "    res.append(i)"
   ]
  },
  {
   "cell_type": "code",
   "execution_count": 142,
   "metadata": {},
   "outputs": [
    {
     "name": "stderr",
     "output_type": "stream",
     "text": [
      "Loading checkpoint shards: 100%|██████████| 7/7 [00:13<00:00,  1.86s/it]\n"
     ]
    }
   ],
   "source": [
    "model = chatglm()"
   ]
  },
  {
   "cell_type": "code",
   "execution_count": null,
   "metadata": {
    "scrolled": false
   },
   "outputs": [
    {
     "name": "stdout",
     "output_type": "stream",
     "text": [
      "progress:1/100\n",
      "progress:2/100\n",
      "progress:3/100\n",
      "ERROR:'因果关系'\n",
      "progress:4/100\n",
      "ERROR:Expecting ',' delimiter: line 4 column 1 (char 302)\n",
      "progress:5/100\n",
      "ERROR:Expecting property name enclosed in double quotes: line 2 column 1 (char 2)\n",
      "progress:6/100\n",
      "ERROR:Expecting property name enclosed in double quotes: line 2 column 1 (char 2)\n",
      "progress:7/100\n",
      "ERROR:list index out of range\n",
      "progress:8/100\n",
      "progress:9/100\n",
      "ERROR:list index out of range\n",
      "progress:10/100\n",
      "ERROR:Expecting ':' delimiter: line 3 column 3 (char 69)\n",
      "progress:11/100\n",
      "ERROR:list index out of range\n",
      "progress:12/100\n",
      "ERROR:'因果关系'\n",
      "progress:13/100\n",
      "progress:14/100\n",
      "ERROR:Expecting ',' delimiter: line 8 column 42 (char 227)\n",
      "progress:15/100\n",
      "progress:16/100\n",
      "progress:17/100\n",
      "progress:18/100\n",
      "progress:19/100\n"
     ]
    }
   ],
   "source": [
    "cnt = 0\n",
    "ana_res = []\n",
    "output = []\n",
    "for i in res:\n",
    "    cnt += 1\n",
    "    print(f\"progress:{cnt}/100\")\n",
    "    # print(f\"content:{i}\\n\\n\")\n",
    "    relation = GetRelationShips(i, model)\n",
    "    # print(f\"relationships={relation}\")\n",
    "    relationJson = extractJson(relation)\n",
    "    relationJson = relationJson if JsonValidate(relationJson) else 'Json Invalidate'\n",
    "    # print(f\"Json inside={relationJson}\")\n",
    "    if not JsonValidate(relationJson):\n",
    "        ana_res.append({\"事件描述\": i, \"事件关系\": \"Json Invalidate\"})\n",
    "        continue\n",
    "    \n",
    "    output.append(relationJson)\n",
    "    with open(\"./relationJson.json\", \"w\", encoding='utf-8') as f:\n",
    "        json.dump(output, f)\n",
    "    \n",
    "    try:\n",
    "        pos = 0\n",
    "        relationJson = json.loads(relationJson)\n",
    "        # print(f\"relationJson={relationJson}\")\n",
    "        for item in relationJson[\"因果关系\"]:\n",
    "            reason = item.split(\"->\")[0]\n",
    "            result = item.split(\"->\")[1]\n",
    "            reason_type = GetEventType(reason, model)\n",
    "            result_type = GetEventType(result, model)\n",
    "            relationJson[\"因果关系\"][pos] = {\n",
    "                \"原因\": {\n",
    "                    \"事件类型\": reason_type,\n",
    "                    \"事件细节\": GetEventDetail(reason, reason_type, model),\n",
    "                    \"事件描述\": reason\n",
    "                },\n",
    "                \"结果\": {\n",
    "                    \"事件类型\": result_type,\n",
    "                    \"事件细节\": GetEventDetail(result, result_type, model),\n",
    "                    \"事件描述\": result\n",
    "                }\n",
    "            }\n",
    "            pos += 1\n",
    "\n",
    "        pos = 0\n",
    "        for item in relationJson[\"顺承关系\"]:\n",
    "            reason = item.split(\"->\")[0]\n",
    "            result = item.split(\"->\")[1]\n",
    "            reason_type = GetEventType(reason, model)\n",
    "            result_type = GetEventType(result, model)\n",
    "            relationJson[\"顺承关系\"][pos] = {\n",
    "                \"前一事件\": {\n",
    "                    \"事件类型\": reason_type,\n",
    "                    \"事件细节\": GetEventDetail(reason, reason_type, model),\n",
    "                    \"事件描述\": reason\n",
    "                },\n",
    "                \"后一事件\": {\n",
    "                    \"事件类型\": result_type,\n",
    "                    \"事件细节\": GetEventDetail(result, result_type, model),\n",
    "                    \"事件描述\": result\n",
    "                }\n",
    "            }\n",
    "            pos += 1\n",
    "    except Exception as e:\n",
    "        # relationJson = str(e)\n",
    "        print(f\"ERROR:{e}\")\n",
    "        continue\n",
    "    \n",
    "    ana_res.append({\"事件描述\": i, \"事件分析结果\": relationJson})\n",
    "    if cnt >= 100:\n",
    "        break\n",
    "    with open(\"./analysis_result.json\", 'w', encoding='utf-8') as f:\n",
    "        json.dump(ana_res, f, indent=4)"
   ]
  },
  {
   "cell_type": "markdown",
   "metadata": {},
   "source": [
    "查看事件图谱结果"
   ]
  },
  {
   "cell_type": "code",
   "execution_count": null,
   "metadata": {},
   "outputs": [],
   "source": [
    "import pprint\n",
    "with open(\"./analysis_result.json\", 'r', encoding='utf-8') as f:\n",
    "    data = json.load(f)\n",
    "pprint.pprint(data)"
   ]
  },
  {
   "cell_type": "markdown",
   "metadata": {},
   "source": [
    "下面是对主题抽取的结果做处理(去除意外词重复词和同义词)的代码"
   ]
  },
  {
   "cell_type": "code",
   "execution_count": 120,
   "metadata": {},
   "outputs": [],
   "source": [
    "import pprint\n",
    "import json\n",
    "with open(\"./EventType.json\", 'r', encoding='utf-8') as f:\n",
    "    data = json.load(f)\n",
    "\n",
    "import pandas as pd\n",
    "\n",
    "dic = {\"type\": []}\n",
    "for i in data:\n",
    "    dic['type'].append(i)\n",
    "pd.DataFrame(dic).to_csv(\"./EventType.csv\")\n",
    "\n",
    "# pprint.pprint(data)"
   ]
  },
  {
   "cell_type": "code",
   "execution_count": 136,
   "metadata": {},
   "outputs": [
    {
     "name": "stderr",
     "output_type": "stream",
     "text": [
      "100%|██████████| 241/241 [00:00<00:00, 133336.93it/s]\n"
     ]
    },
    {
     "name": "stdout",
     "output_type": "stream",
     "text": [
      "NONE\n",
      "NONE\n",
      "NONE\n"
     ]
    },
    {
     "name": "stderr",
     "output_type": "stream",
     "text": [
      "100%|██████████| 224/224 [00:00<00:00, 4449.16it/s]\n"
     ]
    }
   ],
   "source": [
    "from word_similarity import WordSimilarity2010\n",
    "import tqdm\n",
    "import json\n",
    "with open(\"./type_result.json\", 'r', encoding='utf-8') as f:\n",
    "    data1 = json.load(f)\n",
    "data = []\n",
    "for i in data1:\n",
    "    # if i != 'NONE':\n",
    "    if 1:\n",
    "        data.append(i)\n",
    "ws_tool = WordSimilarity2010()\n",
    "eps = 0.9\n",
    "def is_same(a, b):\n",
    "    sim_b = ws_tool.similarity(a, b)\n",
    "    return sim_b>eps\n",
    "\n",
    "import ast\n",
    "\n",
    "def is_list(string):\n",
    "    try:\n",
    "        result = ast.literal_eval(string)\n",
    "        return isinstance(result, list)\n",
    "    except (SyntaxError, ValueError):\n",
    "        return False\n",
    "\n",
    "unique_data = []\n",
    "for i in tqdm.tqdm(data):\n",
    "    dup = False\n",
    "    for k in i:\n",
    "        if k in 'abcdefghijklmnopqretuvwxyzABCDEFGHIJKLMNOPQRSTUVWXYZ':\n",
    "            dup = True\n",
    "            print(i)\n",
    "            break\n",
    "    for j in unique_data:\n",
    "        if i in j:\n",
    "            dup = True\n",
    "            break\n",
    "    if not dup:\n",
    "        unique_data.append(i)\n",
    "\n",
    "unique_data_outof_number_and_badF = []\n",
    "for i in unique_data:\n",
    "    try:\n",
    "        kk = int(i)\n",
    "    except:\n",
    "        if not is_list(str(i)):\n",
    "            unique_data_outof_number_and_badF.append(i)\n",
    "        else:    \n",
    "            # print(i)\n",
    "            pass\n",
    "\n",
    "def remove_duplicates(lst):\n",
    "    result = []\n",
    "    n = len(lst)\n",
    "\n",
    "    for i in tqdm.tqdm(range(n)):\n",
    "        is_duplicate = False\n",
    "        for j in range(i + 1, n):\n",
    "            # print(lst[i], lst[j])\n",
    "            if is_same(lst[i], lst[j]):\n",
    "                is_duplicate = True\n",
    "                # print(lst[i], lst[j])\n",
    "                break\n",
    "        if not is_duplicate:\n",
    "            result.append(lst[i])\n",
    "\n",
    "    return result\n",
    "\n",
    "def check_If_duplicates(lst):\n",
    "    n = len(lst)\n",
    "\n",
    "    for i in tqdm.tqdm(range(n)):\n",
    "        is_duplicate = False\n",
    "        for j in range(i + 1, n):\n",
    "            # print(lst[i], lst[j])\n",
    "            if is_same(lst[i], lst[j]):\n",
    "                return True\n",
    "    return False\n",
    "\n",
    "unique_data_outof_final = remove_duplicates(unique_data_outof_number_and_badF)\n",
    "    "
   ]
  },
  {
   "cell_type": "code",
   "execution_count": 137,
   "metadata": {},
   "outputs": [
    {
     "name": "stderr",
     "output_type": "stream",
     "text": [
      "100%|██████████| 224/224 [00:00<00:00, 4306.21it/s]\n"
     ]
    },
    {
     "data": {
      "text/plain": [
       "(241, 224, 224, 224, False)"
      ]
     },
     "execution_count": 137,
     "metadata": {},
     "output_type": "execute_result"
    }
   ],
   "source": [
    "len(data), len(unique_data), len(unique_data_outof_number_and_badF), len(unique_data_outof_final), check_If_duplicates(unique_data_outof_final)"
   ]
  },
  {
   "cell_type": "code",
   "execution_count": 138,
   "metadata": {},
   "outputs": [],
   "source": [
    "pd.Series(unique_data_outof_final).to_csv(\"./Event_Type_final.csv\")"
   ]
  },
  {
   "cell_type": "code",
   "execution_count": 139,
   "metadata": {},
   "outputs": [
    {
     "data": {
      "text/plain": [
       "0       窃取\n",
       "1       渗透\n",
       "2       打击\n",
       "3     利用木马\n",
       "4       销毁\n",
       "5       攻击\n",
       "6       复制\n",
       "7       发现\n",
       "8       感染\n",
       "9       建立\n",
       "10      建设\n",
       "11      混淆\n",
       "12      学习\n",
       "13      自查\n",
       "14      分析\n",
       "15      状态\n",
       "16      装载\n",
       "17      信息\n",
       "18     重定向\n",
       "19      制造\n",
       "dtype: object"
      ]
     },
     "execution_count": 139,
     "metadata": {},
     "output_type": "execute_result"
    }
   ],
   "source": [
    "pd.Series(unique_data_outof_final).head(20)"
   ]
  },
  {
   "cell_type": "markdown",
   "metadata": {},
   "source": [
    "查看type_result.json文件"
   ]
  },
  {
   "cell_type": "code",
   "execution_count": null,
   "metadata": {
    "pycharm": {
     "is_executing": true
    }
   },
   "outputs": [],
   "source": [
    "import pprint\n",
    "import json\n",
    "with open(\"./type_result.json\", 'r', encoding='utf-8') as f:\n",
    "    data = json.load(f)\n",
    "pprint.pprint(data)"
   ]
  },
  {
   "cell_type": "code",
   "execution_count": null,
   "metadata": {},
   "outputs": [],
   "source": []
  }
 ],
 "metadata": {
  "kernelspec": {
   "display_name": "ChatGLM2",
   "language": "python",
   "name": "chatglm2"
  },
  "language_info": {
   "codemirror_mode": {
    "name": "ipython",
    "version": 3
   },
   "file_extension": ".py",
   "mimetype": "text/x-python",
   "name": "python",
   "nbconvert_exporter": "python",
   "pygments_lexer": "ipython3",
   "version": "3.9.17"
  }
 },
 "nbformat": 4,
 "nbformat_minor": 2
}
