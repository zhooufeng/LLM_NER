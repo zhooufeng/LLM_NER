{
 "cells": [
  {
   "cell_type": "code",
   "execution_count": 1,
   "metadata": {},
   "outputs": [
    {
     "name": "stderr",
     "output_type": "stream",
     "text": [
      "/root/anaconda3/envs/ChatGLM2/lib/python3.9/site-packages/tqdm/auto.py:21: TqdmWarning: IProgress not found. Please update jupyter and ipywidgets. See https://ipywidgets.readthedocs.io/en/stable/user_install.html\n",
      "  from .autonotebook import tqdm as notebook_tqdm\n"
     ]
    }
   ],
   "source": [
    "import pandas as pd\n",
    "from GetRelationShips import GetRelationShips\n",
    "from GetEventType import GetEventType\n",
    "from GetEventDetail import GetEventDetail\n",
    "from load_model import chatglm\n",
    "from extractJson import extractJson, JsonValidate\n",
    "import json\n",
    "import tqdm\n",
    "import re"
   ]
  },
  {
   "cell_type": "code",
   "execution_count": 2,
   "metadata": {},
   "outputs": [
    {
     "data": {
      "text/html": [
       "<div>\n",
       "<style scoped>\n",
       "    .dataframe tbody tr th:only-of-type {\n",
       "        vertical-align: middle;\n",
       "    }\n",
       "\n",
       "    .dataframe tbody tr th {\n",
       "        vertical-align: top;\n",
       "    }\n",
       "\n",
       "    .dataframe thead th {\n",
       "        text-align: right;\n",
       "    }\n",
       "</style>\n",
       "<table border=\"1\" class=\"dataframe\">\n",
       "  <thead>\n",
       "    <tr style=\"text-align: right;\">\n",
       "      <th></th>\n",
       "      <th>Unnamed: 0</th>\n",
       "      <th>0</th>\n",
       "    </tr>\n",
       "  </thead>\n",
       "  <tbody>\n",
       "    <tr>\n",
       "      <th>0</th>\n",
       "      <td>0</td>\n",
       "      <td>窃取</td>\n",
       "    </tr>\n",
       "    <tr>\n",
       "      <th>1</th>\n",
       "      <td>1</td>\n",
       "      <td>渗透</td>\n",
       "    </tr>\n",
       "    <tr>\n",
       "      <th>2</th>\n",
       "      <td>2</td>\n",
       "      <td>复制</td>\n",
       "    </tr>\n",
       "    <tr>\n",
       "      <th>3</th>\n",
       "      <td>3</td>\n",
       "      <td>发现</td>\n",
       "    </tr>\n",
       "    <tr>\n",
       "      <th>4</th>\n",
       "      <td>4</td>\n",
       "      <td>修改</td>\n",
       "    </tr>\n",
       "  </tbody>\n",
       "</table>\n",
       "</div>"
      ],
      "text/plain": [
       "   Unnamed: 0   0\n",
       "0           0  窃取\n",
       "1           1  渗透\n",
       "2           2  复制\n",
       "3           3  发现\n",
       "4           4  修改"
      ]
     },
     "execution_count": 2,
     "metadata": {},
     "output_type": "execute_result"
    }
   ],
   "source": [
    "# df = pd.read_excel(\"./qingbaotype.xlsx\")\n",
    "df = pd.read_csv(\"./Event_Type_final.csv\")\n",
    "df = df.dropna(axis=0, how='any')\n",
    "df.head()"
   ]
  },
  {
   "cell_type": "code",
   "execution_count": 3,
   "metadata": {},
   "outputs": [],
   "source": [
    "res = []\n",
    "for i in df['0']:\n",
    "    res.append(i)"
   ]
  },
  {
   "cell_type": "code",
   "execution_count": null,
   "metadata": {},
   "outputs": [
    {
     "name": "stderr",
     "output_type": "stream",
     "text": [
      "Loading checkpoint shards:  86%|████████▌ | 6/7 [00:11<00:01,  1.92s/it]"
     ]
    }
   ],
   "source": [
    "model = chatglm()\n",
    "background = \"\"\"\n",
    "我希望你能够以一名语言学家的身份帮我完成如下的任务。\n",
    "首先我会给你一段文字，这段文字可能只是一个词语或者一个短语，也可能是一段描述。\n",
    "你需要将这段文字提取为一个简短的动作词语，比如攻击，渗透，销毁等。\n",
    "如果输入的不是动词或者不能提取出动词，就输出NONE\n",
    "你的输出需要严格按照python列表的格式输出，我接下来会给你几个例子。\n",
    "你需要结合下列例子理解我的上述要求，并且按照要求完成任务。\n",
    "\"\"\"\n",
    "\n",
    "example1 = \"\"\"\n",
    "样例1：\n",
    "================\n",
    "输入：CNC组织最早于2019年被发现\n",
    "输出：['发现']\n",
    "================\n",
    "\"\"\"\n",
    "\n",
    "example2 = \"\"\"\n",
    "样例2：\n",
    "================\n",
    "输入：intelligence-based operation，IBO\n",
    "输出：['NONE']\n",
    "================\n",
    "\"\"\"\n",
    "\n",
    "example3 = \"\"\"\n",
    "样例3：\n",
    "================\n",
    "输入：xa003CNC组织利用摆渡木马\n",
    "输出：['利用木马']\n",
    "================\n",
    "\"\"\"\n",
    "\n",
    "example4 = \"\"\"\n",
    "样例1：\n",
    "================\n",
    "输入：打击\n",
    "输出：['打击']\n",
    "================\n",
    "\"\"\"\n",
    "\n",
    "question = \"\"\"\n",
    "问题1：\n",
    "================\n",
    "输入：{}\n",
    "输出：\n",
    "================\n",
    "\"\"\"\n",
    "\n",
    "prompt_base=background + example1 + example2 + example3 + example4"
   ]
  },
  {
   "cell_type": "code",
   "execution_count": null,
   "metadata": {
    "scrolled": false
   },
   "outputs": [],
   "source": [
    "cnt = 0\n",
    "pattern = r\"\\[.*?\\]\"  # 匹配以 \"[\" 开始，以 \"]\" 结束的子串\n",
    "ana_res = []\n",
    "for i in tqdm.tqdm(res):\n",
    "    prompt = prompt_base + question.format(i)\n",
    "    response = model.response(prompt)[0]\n",
    "    matches = re.findall(pattern, response)\n",
    "    for match in matches:\n",
    "        try:\n",
    "            lst = eval(match)  # 使用eval将字符串转化为列表，安全性请自行考虑\n",
    "            ana_res+=lst\n",
    "        except:\n",
    "            ana_res += ['NONE']\n",
    "    with open(\"./type_result.json\", 'w', encoding='utf-8') as f:\n",
    "        json.dump(ana_res, f, indent=4)"
   ]
  },
  {
   "cell_type": "markdown",
   "metadata": {},
   "source": []
  },
  {
   "cell_type": "code",
   "execution_count": null,
   "metadata": {},
   "outputs": [],
   "source": []
  },
  {
   "cell_type": "markdown",
   "metadata": {},
   "source": []
  },
  {
   "cell_type": "code",
   "execution_count": null,
   "metadata": {},
   "outputs": [],
   "source": []
  },
  {
   "cell_type": "code",
   "execution_count": null,
   "metadata": {},
   "outputs": [],
   "source": []
  },
  {
   "cell_type": "code",
   "execution_count": null,
   "metadata": {},
   "outputs": [],
   "source": []
  },
  {
   "cell_type": "code",
   "execution_count": null,
   "metadata": {},
   "outputs": [],
   "source": []
  },
  {
   "cell_type": "code",
   "execution_count": null,
   "metadata": {},
   "outputs": [],
   "source": []
  }
 ],
 "metadata": {
  "kernelspec": {
   "display_name": "ChatGLM2",
   "language": "python",
   "name": "chatglm2"
  },
  "language_info": {
   "codemirror_mode": {
    "name": "ipython",
    "version": 3
   },
   "file_extension": ".py",
   "mimetype": "text/x-python",
   "name": "python",
   "nbconvert_exporter": "python",
   "pygments_lexer": "ipython3",
   "version": "3.9.17"
  }
 },
 "nbformat": 4,
 "nbformat_minor": 2
}
