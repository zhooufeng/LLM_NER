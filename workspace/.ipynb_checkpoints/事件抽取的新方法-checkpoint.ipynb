{
 "cells": [
  {
   "cell_type": "markdown",
   "metadata": {},
   "source": [
    "### 这是实现事件抽取的新方法：\n",
    "\n",
    "先抽取事件根据关系来泛化缩小事件类型。\n",
    "\n",
    "就比如说，一段情报文本里面，抽取出来有下载事件、安装事件、监控事件、数据泄露事件（这些都是距举例子已经泛化了的事件，当然你抽取出来的肯定不直接是什么下载事件，应该具体是：某某某在邮箱上下载了一个xxx），然后可以得出<下载事件，安装事件，顺承关系>，<安装事件，监控事件，因果关系>...，然后把所有威胁情报文本得出的事件根据相似度进行泛化，最后将关系、泛化后的事件类型按照图谱一样组合\n",
    "\n",
    "实现这个目标显得更加简单，直接让模型找出文本中的事件之间的关系就行了。"
   ]
  },
  {
   "cell_type": "code",
   "execution_count": 1,
   "metadata": {},
   "outputs": [
    {
     "name": "stderr",
     "output_type": "stream",
     "text": [
      "/root/anaconda3/envs/ChatGLM2/lib/python3.9/site-packages/tqdm/auto.py:21: TqdmWarning: IProgress not found. Please update jupyter and ipywidgets. See https://ipywidgets.readthedocs.io/en/stable/user_install.html\n",
      "  from .autonotebook import tqdm as notebook_tqdm\n",
      "Loading checkpoint shards: 100%|██████████| 7/7 [00:12<00:00,  1.80s/it]\n"
     ]
    }
   ],
   "source": [
    "from load_model import chatglm\n",
    "model = chatglm()"
   ]
  },
  {
   "cell_type": "code",
   "execution_count": 2,
   "metadata": {},
   "outputs": [],
   "source": [
    "import pandas as pd\n",
    "import json\n",
    "from GetRelationShips import GetRelationShips\n",
    "from extractJson import extractJson, JsonValidate"
   ]
  },
  {
   "cell_type": "code",
   "execution_count": 4,
   "metadata": {},
   "outputs": [
    {
     "name": "stdout",
     "output_type": "stream",
     "text": [
      "progress:1/100\n",
      "progress:2/100\n",
      "progress:3/100\n",
      "progress:4/100\n",
      "progress:5/100\n",
      "progress:6/100\n",
      "progress:7/100\n",
      "progress:8/100\n",
      "progress:9/100\n",
      "progress:10/100\n",
      "progress:11/100\n",
      "progress:12/100\n",
      "progress:13/100\n",
      "progress:14/100\n",
      "progress:15/100\n",
      "progress:16/100\n",
      "progress:17/100\n",
      "progress:18/100\n",
      "progress:19/100\n",
      "progress:20/100\n",
      "progress:21/100\n",
      "progress:22/100\n",
      "progress:23/100\n",
      "progress:24/100\n",
      "progress:25/100\n",
      "progress:26/100\n",
      "progress:27/100\n",
      "progress:28/100\n",
      "progress:29/100\n",
      "progress:30/100\n",
      "progress:31/100\n"
     ]
    },
    {
     "ename": "NameError",
     "evalue": "name 'json' is not defined",
     "output_type": "error",
     "traceback": [
      "\u001b[0;31m---------------------------------------------------------------------------\u001b[0m",
      "\u001b[0;31mNameError\u001b[0m                                 Traceback (most recent call last)",
      "Cell \u001b[0;32mIn[4], line 22\u001b[0m\n\u001b[1;32m     19\u001b[0m         \u001b[38;5;28;01mbreak\u001b[39;00m\n\u001b[1;32m     21\u001b[0m \u001b[38;5;28;01mwith\u001b[39;00m \u001b[38;5;28mopen\u001b[39m(\u001b[38;5;124m\"\u001b[39m\u001b[38;5;124m./relationJson.json\u001b[39m\u001b[38;5;124m\"\u001b[39m, \u001b[38;5;124m\"\u001b[39m\u001b[38;5;124mw\u001b[39m\u001b[38;5;124m\"\u001b[39m, encoding\u001b[38;5;241m=\u001b[39m\u001b[38;5;124m'\u001b[39m\u001b[38;5;124mutf-8\u001b[39m\u001b[38;5;124m'\u001b[39m) \u001b[38;5;28;01mas\u001b[39;00m f:\n\u001b[0;32m---> 22\u001b[0m     \u001b[43mjson\u001b[49m\u001b[38;5;241m.\u001b[39mdump(output, f)\n",
      "\u001b[0;31mNameError\u001b[0m: name 'json' is not defined"
     ]
    }
   ],
   "source": [
    "df = pd.read_csv(\"./qingbao.csv\",  on_bad_lines='skip')\n",
    "res = []\n",
    "for i in df['origin']:\n",
    "    res.append(i)\n",
    "\n",
    "cnt = 0\n",
    "output = []\n",
    "for i in res:\n",
    "    cnt += 1\n",
    "    print(f\"progress:{cnt}/100\")\n",
    "    relation = GetRelationShips(i, model)\n",
    "    relationJson = extractJson(relation)\n",
    "    relationJson = relationJson if JsonValidate(relationJson) else 'Json Invalidate'\n",
    "    if not JsonValidate(relationJson):\n",
    "        output.append({\"事件描述\": i, \"事件关系\": \"Json Invalidate\"})\n",
    "        continue\n",
    "    output.append(relationJson)\n",
    "    if cnt > 30:\n",
    "        break\n",
    "\n",
    "with open(\"./relationJson.json\", \"w\", encoding='utf-8') as f:\n",
    "    json.dump(output, f)"
   ]
  },
  {
   "cell_type": "code",
   "execution_count": null,
   "metadata": {},
   "outputs": [],
   "source": [
    "output[0]"
   ]
  },
  {
   "cell_type": "code",
   "execution_count": null,
   "metadata": {},
   "outputs": [],
   "source": []
  }
 ],
 "metadata": {
  "kernelspec": {
   "display_name": "ChatGLM2",
   "language": "python",
   "name": "chatglm2"
  },
  "language_info": {
   "codemirror_mode": {
    "name": "ipython",
    "version": 3
   },
   "file_extension": ".py",
   "mimetype": "text/x-python",
   "name": "python",
   "nbconvert_exporter": "python",
   "pygments_lexer": "ipython3",
   "version": "3.9.17"
  }
 },
 "nbformat": 4,
 "nbformat_minor": 2
}
