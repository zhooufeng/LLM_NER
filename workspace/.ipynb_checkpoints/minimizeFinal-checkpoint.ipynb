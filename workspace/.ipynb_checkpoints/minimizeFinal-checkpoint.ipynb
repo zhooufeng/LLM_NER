{
 "cells": [
  {
   "cell_type": "code",
   "execution_count": 1,
   "metadata": {},
   "outputs": [],
   "source": [
    "from word_similarity import WordSimilarity2010\n",
    "ws_tool = WordSimilarity2010()\n",
    "eps = 0.9\n",
    "def is_same(a, b):\n",
    "    sim_b = ws_tool.similarity(a, b)\n",
    "    return sim_b>eps"
   ]
  },
  {
   "cell_type": "code",
   "execution_count": 25,
   "metadata": {},
   "outputs": [
    {
     "data": {
      "text/plain": [
       "['摆渡',\n",
       " '保存',\n",
       " '暴露',\n",
       " '崩溃',\n",
       " '编写',\n",
       " '遍历',\n",
       " '标记',\n",
       " '播放',\n",
       " '博彩',\n",
       " '擦除',\n",
       " '操作',\n",
       " '承诺',\n",
       " '充值',\n",
       " '穿过',\n",
       " '传播',\n",
       " '传递',\n",
       " '传输',\n",
       " '闯入',\n",
       " '创建',\n",
       " '打击',\n",
       " '打乱',\n",
       " '打印',\n",
       " '弹出',\n",
       " '登录',\n",
       " '点击',\n",
       " '发放',\n",
       " '发件',\n",
       " '发射',\n",
       " '发帖',\n",
       " '发现',\n",
       " '翻译',\n",
       " '反沙盒',\n",
       " '访问',\n",
       " '放大',\n",
       " '分布',\n",
       " '分类',\n",
       " '分配',\n",
       " '分析',\n",
       " '分享',\n",
       " '分组',\n",
       " '附赠',\n",
       " '复制',\n",
       " '感染',\n",
       " '干预',\n",
       " '跟踪',\n",
       " '更换',\n",
       " '更新',\n",
       " '工作',\n",
       " '公开发售',\n",
       " '攻击',\n",
       " '共享',\n",
       " '购买',\n",
       " '挂载',\n",
       " '管理',\n",
       " '怀疑',\n",
       " '回款',\n",
       " '贿赂',\n",
       " '混淆',\n",
       " '获取',\n",
       " '加密',\n",
       " '加强',\n",
       " '加载',\n",
       " '价值',\n",
       " '监督',\n",
       " '监听',\n",
       " '建立',\n",
       " '交通',\n",
       " '接管',\n",
       " '接受',\n",
       " '揭露',\n",
       " '解决',\n",
       " '解密',\n",
       " '进入',\n",
       " '开始',\n",
       " '克隆',\n",
       " '空心化',\n",
       " '控制',\n",
       " '利用木马',\n",
       " '链接',\n",
       " '聊天',\n",
       " '浏览',\n",
       " '沦陷',\n",
       " '蔓延',\n",
       " '枚举',\n",
       " '拿到',\n",
       " '排序',\n",
       " '喷洒',\n",
       " '窃取',\n",
       " '认为',\n",
       " '扫描',\n",
       " '稍后',\n",
       " '设计',\n",
       " '深入',\n",
       " '渗入',\n",
       " '渗透',\n",
       " '生产',\n",
       " '释放',\n",
       " '收集',\n",
       " '输入',\n",
       " '搜索',\n",
       " '探测',\n",
       " '剔除',\n",
       " '提出',\n",
       " '替代',\n",
       " '添加',\n",
       " '填写',\n",
       " '跳转到',\n",
       " '通信',\n",
       " '投递',\n",
       " '投放',\n",
       " '投资',\n",
       " '突破',\n",
       " '推断',\n",
       " '挖掘',\n",
       " '位于',\n",
       " '位置',\n",
       " '误导',\n",
       " '洗钱',\n",
       " '下降',\n",
       " '相似',\n",
       " '销毁',\n",
       " '销售',\n",
       " '泄露',\n",
       " '形成',\n",
       " '学习',\n",
       " '循环请求',\n",
       " '研究',\n",
       " '演变为',\n",
       " '依赖于',\n",
       " '疑似',\n",
       " '溢出',\n",
       " '引入',\n",
       " '隐藏',\n",
       " '硬编码',\n",
       " '诱导',\n",
       " '诱惑',\n",
       " '越界读取',\n",
       " '越界写入',\n",
       " '运行',\n",
       " '展示',\n",
       " '战胜',\n",
       " '制定',\n",
       " '制造',\n",
       " '滞留',\n",
       " '重叠',\n",
       " '重定向',\n",
       " '转发',\n",
       " '装载',\n",
       " '自查',\n",
       " '阻塞',\n",
       " '做好']"
      ]
     },
     "execution_count": 25,
     "metadata": {},
     "output_type": "execute_result"
    }
   ],
   "source": [
    "import pandas as pd\n",
    "\n",
    "df = pd.read_csv(\"Event_Type_final_bog.csv\")\n",
    "word_list = list(df['word'])\n",
    "word_list"
   ]
  },
  {
   "cell_type": "code",
   "execution_count": 51,
   "metadata": {},
   "outputs": [
    {
     "name": "stdout",
     "output_type": "stream",
     "text": [
      "word=相似\tmaxSimi=0.1\tminSimi=0\n",
      "word=开始\tmaxSimi=0.5632149640967681\tminSimi=0\n",
      "word=传输\tmaxSimi=0.5632149640967681\tminSimi=0\n",
      "word=编写\tmaxSimi=0.585642777645155\tminSimi=0\n",
      "word=攻击\tmaxSimi=0.585642777645155\tminSimi=0\n",
      "word=发现\tmaxSimi=0.1\tminSimi=0\n",
      "word=遍历\tmaxSimi=0\tminSimi=0\n",
      "word=标记\tmaxSimi=0.6306922220793977\tminSimi=0\n",
      "word=博彩\tmaxSimi=0\tminSimi=0\n",
      "word=擦除\tmaxSimi=0\tminSimi=0\n",
      "word=操作\tmaxSimi=0.1\tminSimi=0\n",
      "word=充值\tmaxSimi=0\tminSimi=0\n",
      "word=闯入\tmaxSimi=0.1\tminSimi=0\n",
      "word=打击\tmaxSimi=0.5055338330469207\tminSimi=0\n",
      "word=打乱\tmaxSimi=0.5386993599911482\tminSimi=0\n",
      "word=弹出\tmaxSimi=0\tminSimi=0\n",
      "word=点击\tmaxSimi=0\tminSimi=0\n",
      "word=发件\tmaxSimi=0\tminSimi=0\n",
      "word=发帖\tmaxSimi=0\tminSimi=0\n",
      "word=反沙盒\tmaxSimi=0\tminSimi=0\n",
      "word=附赠\tmaxSimi=0\tminSimi=0\n",
      "word=公开发售\tmaxSimi=0\tminSimi=0\n",
      "word=共享\tmaxSimi=0.1\tminSimi=0\n",
      "word=回款\tmaxSimi=0\tminSimi=0\n",
      "word=贿赂\tmaxSimi=0.6306922220793977\tminSimi=0\n",
      "word=加密\tmaxSimi=0.1\tminSimi=0\n",
      "word=加载\tmaxSimi=0\tminSimi=0\n",
      "word=价值\tmaxSimi=0.6306922220793977\tminSimi=0\n",
      "word=监听\tmaxSimi=0.1\tminSimi=0\n",
      "word=解密\tmaxSimi=0\tminSimi=0\n",
      "word=空心化\tmaxSimi=0\tminSimi=0\n",
      "word=利用木马\tmaxSimi=0\tminSimi=0\n",
      "word=链接\tmaxSimi=0\tminSimi=0\n",
      "word=枚举\tmaxSimi=0\tminSimi=0\n",
      "word=排序\tmaxSimi=0\tminSimi=0\n",
      "word=扫描\tmaxSimi=0.48631247450166426\tminSimi=0\n",
      "word=稍后\tmaxSimi=0\tminSimi=0\n",
      "word=深入\tmaxSimi=0.5386993599911482\tminSimi=0\n",
      "word=释放\tmaxSimi=0.6306922220793977\tminSimi=0\n",
      "word=跳转到\tmaxSimi=0\tminSimi=0\n",
      "word=投放\tmaxSimi=0.6178746848351253\tminSimi=0\n",
      "word=突破\tmaxSimi=0.1\tminSimi=0\n",
      "word=挖掘\tmaxSimi=0.6178746848351253\tminSimi=0\n",
      "word=位置\tmaxSimi=0.6306922220793977\tminSimi=0\n",
      "word=误导\tmaxSimi=0.1\tminSimi=0\n",
      "word=洗钱\tmaxSimi=0.1\tminSimi=0\n",
      "word=循环请求\tmaxSimi=0\tminSimi=0\n",
      "word=演变为\tmaxSimi=0\tminSimi=0\n",
      "word=依赖于\tmaxSimi=0\tminSimi=0\n",
      "word=疑似\tmaxSimi=0.5386993599911482\tminSimi=0\n",
      "word=硬编码\tmaxSimi=0\tminSimi=0\n",
      "word=越界读取\tmaxSimi=0\tminSimi=0\n",
      "word=越界写入\tmaxSimi=0\tminSimi=0\n",
      "word=重叠\tmaxSimi=0.5386993599911482\tminSimi=0\n",
      "word=重定向\tmaxSimi=0\tminSimi=0\n"
     ]
    }
   ],
   "source": [
    "word_simi = {}\n",
    "for i in word_list:\n",
    "    word_simi[i] = []\n",
    "    for j in word_list:\n",
    "        if i == j:\n",
    "            continue\n",
    "        word_simi[i].append(ws_tool.similarity(i, j))\n",
    "for i in word_list:\n",
    "    print(f\"word={i}\\tmaxSimi={max(word_simi[i])}\\tminSimi={min(word_simi[i])}\")"
   ]
  },
  {
   "cell_type": "code",
   "execution_count": 27,
   "metadata": {},
   "outputs": [
    {
     "name": "stdout",
     "output_type": "stream",
     "text": [
      "before:151 after:148\n"
     ]
    }
   ],
   "source": [
    "word = '摆渡'\n",
    "new_word_list = [word]\n",
    "eps = 0.7\n",
    "for i in word_list:\n",
    "    if ws_tool.similarity(i, word) < eps:\n",
    "        new_word_list.append(i)\n",
    "print(\"before:{} after:{}\".format(len(word_list), len(new_word_list)))\n",
    "word_list = new_word_list"
   ]
  },
  {
   "cell_type": "code",
   "execution_count": 28,
   "metadata": {},
   "outputs": [
    {
     "name": "stdout",
     "output_type": "stream",
     "text": [
      "before:148 after:131\n"
     ]
    }
   ],
   "source": [
    "word = '穿过'\n",
    "new_word_list = [word]\n",
    "eps = 0.6\n",
    "for i in word_list:\n",
    "    if ws_tool.similarity(i, word) < eps:\n",
    "        new_word_list.append(i)\n",
    "print(\"before:{} after:{}\".format(len(word_list), len(new_word_list)))\n",
    "word_list = new_word_list"
   ]
  },
  {
   "cell_type": "code",
   "execution_count": 30,
   "metadata": {},
   "outputs": [
    {
     "name": "stdout",
     "output_type": "stream",
     "text": [
      "before:119 after:115\n"
     ]
    }
   ],
   "source": [
    "word = '发现'\n",
    "new_word_list = [word]\n",
    "eps = 0.6\n",
    "for i in word_list:\n",
    "    if ws_tool.similarity(i, word) < eps:\n",
    "        new_word_list.append(i)\n",
    "print(\"before:{} after:{}\".format(len(word_list), len(new_word_list)))\n",
    "word_list = new_word_list"
   ]
  },
  {
   "cell_type": "code",
   "execution_count": 33,
   "metadata": {},
   "outputs": [
    {
     "name": "stdout",
     "output_type": "stream",
     "text": [
      "before:89 after:77\n"
     ]
    }
   ],
   "source": [
    "word = '攻击'\n",
    "new_word_list = [word]\n",
    "eps = 0.6\n",
    "for i in word_list:\n",
    "    if ws_tool.similarity(i, word) < eps:\n",
    "        new_word_list.append(i)\n",
    "print(\"before:{} after:{}\".format(len(word_list), len(new_word_list)))\n",
    "word_list = new_word_list"
   ]
  },
  {
   "cell_type": "code",
   "execution_count": 34,
   "metadata": {},
   "outputs": [
    {
     "name": "stdout",
     "output_type": "stream",
     "text": [
      "before:77 after:77\n"
     ]
    }
   ],
   "source": [
    "word = '解决'\n",
    "new_word_list = [word]\n",
    "eps = 0.6\n",
    "for i in word_list:\n",
    "    if ws_tool.similarity(i, word) < eps:\n",
    "        new_word_list.append(i)\n",
    "print(\"before:{} after:{}\".format(len(word_list), len(new_word_list)))\n",
    "word_list = new_word_list"
   ]
  },
  {
   "cell_type": "code",
   "execution_count": 37,
   "metadata": {},
   "outputs": [
    {
     "name": "stdout",
     "output_type": "stream",
     "text": [
      "before:77 after:77\n"
     ]
    }
   ],
   "source": [
    "word = '编写'\n",
    "new_word_list = [word]\n",
    "eps = 0.6\n",
    "for i in word_list:\n",
    "    if ws_tool.similarity(i, word) < eps:\n",
    "        new_word_list.append(i)\n",
    "print(\"before:{} after:{}\".format(len(word_list), len(new_word_list)))\n",
    "word_list = new_word_list"
   ]
  },
  {
   "cell_type": "code",
   "execution_count": 39,
   "metadata": {},
   "outputs": [
    {
     "name": "stdout",
     "output_type": "stream",
     "text": [
      "before:77 after:75\n"
     ]
    }
   ],
   "source": [
    "word = '泄露'\n",
    "new_word_list = [word]\n",
    "eps = 0.7\n",
    "for i in word_list:\n",
    "    if ws_tool.similarity(i, word) < eps:\n",
    "        new_word_list.append(i)\n",
    "print(\"before:{} after:{}\".format(len(word_list), len(new_word_list)))\n",
    "word_list = new_word_list"
   ]
  },
  {
   "cell_type": "code",
   "execution_count": 42,
   "metadata": {},
   "outputs": [
    {
     "name": "stdout",
     "output_type": "stream",
     "text": [
      "before:74 after:65\n"
     ]
    }
   ],
   "source": [
    "word = '传输'\n",
    "new_word_list = [word]\n",
    "eps = 0.6\n",
    "for i in word_list:\n",
    "    if ws_tool.similarity(i, word) < eps:\n",
    "        new_word_list.append(i)\n",
    "print(\"before:{} after:{}\".format(len(word_list), len(new_word_list)))\n",
    "word_list = new_word_list"
   ]
  },
  {
   "cell_type": "code",
   "execution_count": 44,
   "metadata": {},
   "outputs": [
    {
     "name": "stdout",
     "output_type": "stream",
     "text": [
      "before:65 after:61\n"
     ]
    }
   ],
   "source": [
    "word = '放大'\n",
    "new_word_list = [word]\n",
    "eps = 0.7\n",
    "for i in word_list:\n",
    "    if ws_tool.similarity(i, word) < eps:\n",
    "        new_word_list.append(i)\n",
    "print(\"before:{} after:{}\".format(len(word_list), len(new_word_list)))\n",
    "word_list = new_word_list"
   ]
  },
  {
   "cell_type": "code",
   "execution_count": 46,
   "metadata": {},
   "outputs": [
    {
     "name": "stdout",
     "output_type": "stream",
     "text": [
      "before:61 after:59\n"
     ]
    }
   ],
   "source": [
    "word = '更新'\n",
    "new_word_list = [word]\n",
    "eps = 0.6\n",
    "for i in word_list:\n",
    "    if ws_tool.similarity(i, word) < eps:\n",
    "        new_word_list.append(i)\n",
    "print(\"before:{} after:{}\".format(len(word_list), len(new_word_list)))\n",
    "word_list = new_word_list"
   ]
  },
  {
   "cell_type": "code",
   "execution_count": 47,
   "metadata": {},
   "outputs": [
    {
     "name": "stdout",
     "output_type": "stream",
     "text": [
      "before:59 after:57\n"
     ]
    }
   ],
   "source": [
    "word = '开始'\n",
    "new_word_list = [word]\n",
    "eps = 0.6\n",
    "for i in word_list:\n",
    "    if ws_tool.similarity(i, word) < eps:\n",
    "        new_word_list.append(i)\n",
    "print(\"before:{} after:{}\".format(len(word_list), len(new_word_list)))\n",
    "word_list = new_word_list"
   ]
  },
  {
   "cell_type": "code",
   "execution_count": 50,
   "metadata": {},
   "outputs": [
    {
     "name": "stdout",
     "output_type": "stream",
     "text": [
      "before:56 after:55\n"
     ]
    }
   ],
   "source": [
    "word = '相似'\n",
    "new_word_list = [word]\n",
    "eps = 0.5\n",
    "for i in word_list:\n",
    "    if ws_tool.similarity(i, word) < eps:\n",
    "        new_word_list.append(i)\n",
    "print(\"before:{} after:{}\".format(len(word_list), len(new_word_list)))\n",
    "word_list = new_word_list"
   ]
  },
  {
   "cell_type": "code",
   "execution_count": 52,
   "metadata": {},
   "outputs": [
    {
     "name": "stdout",
     "output_type": "stream",
     "text": [
      "before:55 after:54\n"
     ]
    }
   ],
   "source": [
    "word = '释放'\n",
    "new_word_list = [word]\n",
    "eps = 0.5\n",
    "for i in word_list:\n",
    "    if ws_tool.similarity(i, word) < eps:\n",
    "        new_word_list.append(i)\n",
    "print(\"before:{} after:{}\".format(len(word_list), len(new_word_list)))\n",
    "word_list = new_word_list"
   ]
  },
  {
   "cell_type": "code",
   "execution_count": 54,
   "metadata": {},
   "outputs": [
    {
     "name": "stdout",
     "output_type": "stream",
     "text": [
      "before:54 after:51\n"
     ]
    }
   ],
   "source": [
    "bad_list = ['价值', '打乱', '发件']\n",
    "new_word_list = []\n",
    "for i in word_list:\n",
    "    if i not in bad_list:\n",
    "        new_word_list.append(i)\n",
    "print(\"before:{} after:{}\".format(len(word_list), len(new_word_list)))\n",
    "word_list = new_word_list"
   ]
  },
  {
   "cell_type": "code",
   "execution_count": 55,
   "metadata": {},
   "outputs": [],
   "source": [
    "pd.DataFrame(word_list).to_csv(\"EventTypeFinalMini.csv\")"
   ]
  },
  {
   "cell_type": "code",
   "execution_count": null,
   "metadata": {},
   "outputs": [],
   "source": []
  }
 ],
 "metadata": {
  "kernelspec": {
   "display_name": "ChatGLM2",
   "language": "python",
   "name": "chatglm2"
  },
  "language_info": {
   "codemirror_mode": {
    "name": "ipython",
    "version": 3
   },
   "file_extension": ".py",
   "mimetype": "text/x-python",
   "name": "python",
   "nbconvert_exporter": "python",
   "pygments_lexer": "ipython3",
   "version": "3.9.17"
  }
 },
 "nbformat": 4,
 "nbformat_minor": 2
}
